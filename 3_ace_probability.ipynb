{
 "cells": [
  {
   "cell_type": "markdown",
   "metadata": {},
   "source": [
    "Write a program to find the probability of drawing an ace after drawing an ace on the first draw"
   ]
  },
  {
   "cell_type": "code",
   "execution_count": 3,
   "metadata": {},
   "outputs": [
    {
     "name": "stdout",
     "output_type": "stream",
     "text": [
      "Probability of getteing ace after ace is  0.4524886877828055\n"
     ]
    }
   ],
   "source": [
    "try:\n",
    "    pack = 52\n",
    "    ace = 4\n",
    "    prob1 = ace/pack\n",
    "    pack -= 1\n",
    "    ace -= 1\n",
    "    prob2 = ace/pack\n",
    "    print(\"Probability of getteing ace after ace is \",prob1 * prob2 * 100)\n",
    "except Exception as e:\n",
    "    print(\"Error is \",e)"
   ]
  }
 ],
 "metadata": {
  "kernelspec": {
   "display_name": "Python 3",
   "language": "python",
   "name": "python3"
  },
  "language_info": {
   "codemirror_mode": {
    "name": "ipython",
    "version": 3
   },
   "file_extension": ".py",
   "mimetype": "text/x-python",
   "name": "python",
   "nbconvert_exporter": "python",
   "pygments_lexer": "ipython3",
   "version": "3.7.3"
  }
 },
 "nbformat": 4,
 "nbformat_minor": 2
}
