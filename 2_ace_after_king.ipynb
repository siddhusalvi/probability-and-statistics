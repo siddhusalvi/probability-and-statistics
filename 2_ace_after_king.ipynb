{
 "cells": [
  {
   "cell_type": "markdown",
   "metadata": {},
   "source": [
    "#probability of drawing an ace after drawing a king on the first draw"
   ]
  },
  {
   "cell_type": "code",
   "execution_count": 22,
   "metadata": {},
   "outputs": [
    {
     "name": "stdout",
     "output_type": "stream",
     "text": [
      "probability of drawing an ace after drawing a king is 0.603318250377074 %.\n"
     ]
    }
   ],
   "source": [
    "try:\n",
    "    pack = 52\n",
    "    ace = 4\n",
    "    king = 4\n",
    "    prob1 = (king/pack) \n",
    "    pack -= 1\n",
    "    king -= 1\n",
    "    #print(prob1* 100)\n",
    "    #print(\"cards in Pack :\",pack)\n",
    "    prob2 = (ace/pack) \n",
    "    #print(prob2* 100)\n",
    "    prob3 = prob1 * prob2\n",
    "    print(\"probability of drawing an ace after drawing a king is\",prob3*100,\"%.\")\n",
    "except Exception as e:\n",
    "    print(\"Exception occured in program error is \",e)\n"
   ]
  }
 ],
 "metadata": {
  "kernelspec": {
   "display_name": "Python 3",
   "language": "python",
   "name": "python3"
  },
  "language_info": {
   "codemirror_mode": {
    "name": "ipython",
    "version": 3
   },
   "file_extension": ".py",
   "mimetype": "text/x-python",
   "name": "python",
   "nbconvert_exporter": "python",
   "pygments_lexer": "ipython3",
   "version": "3.7.3"
  }
 },
 "nbformat": 4,
 "nbformat_minor": 2
}
