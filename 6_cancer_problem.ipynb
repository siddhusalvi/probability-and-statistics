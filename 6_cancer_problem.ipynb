{
 "cells": [
  {
   "cell_type": "raw",
   "metadata": {},
   "source": [
    "6. Given the following statistics, write a program to find the probability that a woman has cancer if she has a positive mammogram result?\n",
    "\t\ta. One percent of women over 50 have breast cancer.\n",
    "\t\tb. Ninety percent of women who have breast cancer test positive on mammograms.\n",
    "\t\tc. Eight percent of women will have false positives."
   ]
  },
  {
   "cell_type": "code",
   "execution_count": 18,
   "metadata": {},
   "outputs": [
    {
     "name": "stdout",
     "output_type": "stream",
     "text": [
      "Probability of cancer : 0.01\n",
      "Probability of not having cancer : 0.99\n",
      "Probability of cancer on mammograms: 0.9\n",
      "Probability of not cancer on mammograms: 0.08\n"
     ]
    }
   ],
   "source": [
    "prob_cancer = 1/100\n",
    "print(\"Probability of cancer :\",prob_cancer)\n",
    "prob_not_cancer = 1 - prob_cancer\n",
    "print(\"Probability of not having cancer :\",prob_not_cancer)\n",
    "prob_cancer_mamog = 90/100\n",
    "print(\"Probability of cancer on mammograms:\",prob_cancer_mamog)\n",
    "prob_cancer_not_mamog = 8/100\n",
    "print(\"Probability of not cancer on mammograms:\",prob_cancer_not_mamog)"
   ]
  },
  {
   "cell_type": "code",
   "execution_count": 19,
   "metadata": {},
   "outputs": [],
   "source": [
    "ans = (prob_cancer_mamog * prob_cancer) / (prob_cancer_mamog * prob_cancer + prob_cancer_not_mamog + prob_not_cancer)"
   ]
  },
  {
   "cell_type": "code",
   "execution_count": 20,
   "metadata": {},
   "outputs": [
    {
     "name": "stdout",
     "output_type": "stream",
     "text": [
      "probability that a woman has cancer if she has a positive mammogram result is : 0.8341056533827619\n"
     ]
    }
   ],
   "source": [
    "print(\"probability that a woman has cancer if she has a positive mammogram result is :\",ans*100)"
   ]
  }
 ],
 "metadata": {
  "kernelspec": {
   "display_name": "Python 3",
   "language": "python",
   "name": "python3"
  },
  "language_info": {
   "codemirror_mode": {
    "name": "ipython",
    "version": 3
   },
   "file_extension": ".py",
   "mimetype": "text/x-python",
   "name": "python",
   "nbconvert_exporter": "python",
   "pygments_lexer": "ipython3",
   "version": "3.7.3"
  }
 },
 "nbformat": 4,
 "nbformat_minor": 2
}
