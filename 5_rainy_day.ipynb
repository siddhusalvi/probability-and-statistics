{
 "cells": [
  {
   "cell_type": "raw",
   "metadata": {},
   "source": [
    " 5. In my town, it's rainy one third of the days. Given that it is rainy, there will be heavy traffic with probability 12, and given that it is not rainy, there will be heavy traffic with probability 14. If it's rainy and there is heavy traffic, I arrive late for work with probability 12. On the other hand, the probability of being late is reduced to 18 if it is not rainy and there is no heavy traffic. In other situations (rainy and no traffic, not rainy and traffic) the probability of being late is 0.25. You pick a random day.\n",
    "Write a program to find following\n",
    "1.What is the probability that it's not raining and there is heavy traffic and I am not late?\n",
    "2.What is the probability that I am late?\n",
    "3.Given that I arrived late at work, what is the probability that it rained that day?\n"
   ]
  },
  {
   "cell_type": "code",
   "execution_count": 13,
   "metadata": {},
   "outputs": [
    {
     "name": "stdout",
     "output_type": "stream",
     "text": [
      "Probability of not raining and heavy traffic and not late 0.125\n"
     ]
    }
   ],
   "source": [
    "prob1 = 2/3 * 1/4 * 3/4\n",
    "print(\"Probability of not raining and heavy traffic and not late\",prob1)"
   ]
  },
  {
   "cell_type": "code",
   "execution_count": 14,
   "metadata": {},
   "outputs": [
    {
     "name": "stdout",
     "output_type": "stream",
     "text": [
      "Probability of late 0.22916666666666666\n"
     ]
    }
   ],
   "source": [
    "prob2 = 1/12+1/24+1/24+1/16\n",
    "print(\"Probability of late\",prob2)"
   ]
  },
  {
   "cell_type": "code",
   "execution_count": 15,
   "metadata": {},
   "outputs": [
    {
     "name": "stdout",
     "output_type": "stream",
     "text": [
      "arrived late at work, what is the probability that it rained that day 0.125\n"
     ]
    }
   ],
   "source": [
    "prob3 = 1/12+1/24\n",
    "print(\"arrived late at work, what is the probability that it rained that day\",prob3)"
   ]
  }
 ],
 "metadata": {
  "kernelspec": {
   "display_name": "Python 3",
   "language": "python",
   "name": "python3"
  },
  "language_info": {
   "codemirror_mode": {
    "name": "ipython",
    "version": 3
   },
   "file_extension": ".py",
   "mimetype": "text/x-python",
   "name": "python",
   "nbconvert_exporter": "python",
   "pygments_lexer": "ipython3",
   "version": "3.7.3"
  }
 },
 "nbformat": 4,
 "nbformat_minor": 2
}
