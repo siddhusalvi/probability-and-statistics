{
 "cells": [
  {
   "cell_type": "markdown",
   "metadata": {},
   "source": [
    "10.  X is a normally normally distributed variable with mean μ = 30 and standard deviation σ = 4. Write a program to find \n",
    "a. P(x < 40) \n",
    "b. P(x > 21) \n",
    "c. P(30 < x < 35)"
   ]
  },
  {
   "cell_type": "code",
   "execution_count": 1,
   "metadata": {},
   "outputs": [],
   "source": [
    "mean = 30\n",
    "sd = 4"
   ]
  },
  {
   "cell_type": "code",
   "execution_count": 6,
   "metadata": {},
   "outputs": [],
   "source": [
    "def z_score(prob,mean,sd):\n",
    "    return (prob - mean)/(sd)"
   ]
  },
  {
   "cell_type": "code",
   "execution_count": 65,
   "metadata": {},
   "outputs": [
    {
     "name": "stdout",
     "output_type": "stream",
     "text": [
      "P(x < 40) = 2.5 \n",
      "P(z < 2.5): 0.99379\n"
     ]
    }
   ],
   "source": [
    "prob_40 = z_score(40,mean,sd)\n",
    "print(\"P(x < 40) =\",prob_40,\"\\nP(z < 2.5): 0.99379\")"
   ]
  },
  {
   "cell_type": "code",
   "execution_count": 66,
   "metadata": {},
   "outputs": [
    {
     "name": "stdout",
     "output_type": "stream",
     "text": [
      "P(x < 21) = -2.25 \n",
      "P(z < -2.5): 0.01222\n",
      "P(x > 21) = P(z > -2.5): 0.98778\n"
     ]
    }
   ],
   "source": [
    "prob_21 = z_score(21,mean,sd)\n",
    "print(\"P(x < 21) =\",prob_21,\"\\nP(z < -2.5): 0.01222\")\n",
    "print(\"P(x > 21) = P(z > -2.5):\",1-0.01222)"
   ]
  },
  {
   "cell_type": "code",
   "execution_count": 67,
   "metadata": {},
   "outputs": [
    {
     "name": "stdout",
     "output_type": "stream",
     "text": [
      "P(x < 30) = 0.0 \n",
      "P(z < 0.0):  0.5\n"
     ]
    }
   ],
   "source": [
    "prob_30 = z_score(30,mean,sd)\n",
    "z_score30 = 0.5000\n",
    "print(\"P(x < 30) =\",prob_30,\"\\nP(z < 0.0): \",z_score30)"
   ]
  },
  {
   "cell_type": "code",
   "execution_count": 61,
   "metadata": {},
   "outputs": [
    {
     "name": "stdout",
     "output_type": "stream",
     "text": [
      "P(x < 35) = 1.25 \n",
      "P(z < 1.25):  0.89435\n"
     ]
    }
   ],
   "source": [
    "prob_35 = z_score(35,mean,sd)\n",
    "z_score35 = 0.89435\n",
    "print(\"P(x < 35) =\",prob_35,\"\\nP(z < 1.25): \",z_score35)"
   ]
  },
  {
   "cell_type": "code",
   "execution_count": 68,
   "metadata": {},
   "outputs": [
    {
     "name": "stdout",
     "output_type": "stream",
     "text": [
      "P(30 < x < 35) = P(0 < z < 1.25) : 0.39435\n"
     ]
    }
   ],
   "source": [
    "print(\"P(30 < x < 35) = P(0 < z < 1.25) :\",z_score35 - z_score30)"
   ]
  }
 ],
 "metadata": {
  "kernelspec": {
   "display_name": "Python 3",
   "language": "python",
   "name": "python3"
  },
  "language_info": {
   "codemirror_mode": {
    "name": "ipython",
    "version": 3
   },
   "file_extension": ".py",
   "mimetype": "text/x-python",
   "name": "python",
   "nbconvert_exporter": "python",
   "pygments_lexer": "ipython3",
   "version": "3.7.3"
  }
 },
 "nbformat": 4,
 "nbformat_minor": 2
}
