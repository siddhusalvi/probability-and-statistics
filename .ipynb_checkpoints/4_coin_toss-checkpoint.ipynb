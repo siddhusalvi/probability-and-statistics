{
 "cells": [
  {
   "cell_type": "raw",
   "metadata": {},
   "source": [
    "You toss a fair coin three times write a program to find following:\n",
    "1.What is the probability of three heads, HHH?\n",
    "2.What is the probability that you observe exactly one heads?\n",
    "3.Given that you have observed at least one heads,\n",
    "4.what is the probability that you observe at least two heads?"
   ]
  },
  {
   "cell_type": "code",
   "execution_count": null,
   "metadata": {},
   "outputs": [],
   "source": [
    "try:\n",
    "    sample_space = ['HHH','HHT','HTH','THH','HTT','THT','TTH','TTT']\n",
    "    n_space = len(sample_space)\n",
    "except Exception as e:\n",
    "    print(\"Exception occured in program error is \",e)"
   ]
  },
  {
   "cell_type": "code",
   "execution_count": 2,
   "metadata": {},
   "outputs": [
    {
     "name": "stdout",
     "output_type": "stream",
     "text": [
      "Probability of all heads : 12.5\n"
     ]
    }
   ],
   "source": [
    "def count_all_heads(s_space):\n",
    "    count = 0\n",
    "    for i in s_space:\n",
    "        if i == \"HHH\":\n",
    "            count+= 1\n",
    "    return count\n",
    "\n",
    "\n",
    "print(\"Probability of all heads :\",count_all_heads(sample_space)/n_space*100)"
   ]
  },
  {
   "cell_type": "code",
   "execution_count": 3,
   "metadata": {},
   "outputs": [
    {
     "name": "stdout",
     "output_type": "stream",
     "text": [
      "HTT\n",
      "THT\n",
      "TTH\n",
      "Probability of exact 1 head : 37.5\n"
     ]
    }
   ],
   "source": [
    "def exact_head(s_space):\n",
    "    count1 = 0\n",
    "    for i in s_space:\n",
    "        count2 = 0\n",
    "        for j in i:\n",
    "            if j == \"H\":\n",
    "                count2 += 1\n",
    "        if count2 == 1:\n",
    "            print(i)\n",
    "            count1 += 1\n",
    "    return count1\n",
    "\n",
    "\n",
    "print(\"Probability of exact 1 head :\",exact_head(sample_space)/n_space*100)"
   ]
  },
  {
   "cell_type": "code",
   "execution_count": 4,
   "metadata": {},
   "outputs": [
    {
     "name": "stdout",
     "output_type": "stream",
     "text": [
      "Probability of exact 1 head : 87.5\n"
     ]
    }
   ],
   "source": [
    "def atleast_head(s_space):\n",
    "    count1 = 0\n",
    "    for i in s_space:\n",
    "        if \"H\"in i:\n",
    "            count1 += 1\n",
    "    return count1\n",
    "\n",
    "print(\"Probability of atleast one head :\",atleast_head(sample_space)/n_space*100)"
   ]
  },
  {
   "cell_type": "code",
   "execution_count": 8,
   "metadata": {},
   "outputs": [
    {
     "name": "stdout",
     "output_type": "stream",
     "text": [
      "HHH\n",
      "HHT\n",
      "HTH\n",
      "THH\n",
      "Probability of atleast 2 head : 50.0\n"
     ]
    }
   ],
   "source": [
    "def atleast2_head(s_space):\n",
    "    count1 = 0\n",
    "    for i in s_space:\n",
    "        count2 = 0\n",
    "        for j in i:\n",
    "            if j == \"H\":\n",
    "                count2 += 1\n",
    "        if count2 > 1:\n",
    "            print(i)\n",
    "            count1 += 1\n",
    "    return count1\n",
    "\n",
    "\n",
    "print(\"Probability of atleast 2 head :\",atleast2_head(sample_space)/n_space*100)"
   ]
  }
 ],
 "metadata": {
  "kernelspec": {
   "display_name": "Python 3",
   "language": "python",
   "name": "python3"
  },
  "language_info": {
   "codemirror_mode": {
    "name": "ipython",
    "version": 3
   },
   "file_extension": ".py",
   "mimetype": "text/x-python",
   "name": "python",
   "nbconvert_exporter": "python",
   "pygments_lexer": "ipython3",
   "version": "3.7.3"
  }
 },
 "nbformat": 4,
 "nbformat_minor": 2
}
