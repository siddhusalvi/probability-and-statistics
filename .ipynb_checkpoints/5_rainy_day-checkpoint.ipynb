{
 "cells": [
  {
   "cell_type": "raw",
   "metadata": {},
   "source": [
    " 5. In my town, it's rainy one third of the days. Given that it is rainy, there will be heavy traffic with probability 12, and given that it is not rainy, there will be heavy traffic with probability 14. If it's rainy and there is heavy traffic, I arrive late for work with probability 12. On the other hand, the probability of being late is reduced to 18 if it is not rainy and there is no heavy traffic. In other situations (rainy and no traffic, not rainy and traffic) the probability of being late is 0.25. You pick a random day.\n",
    "Write a program to find following\n",
    "1.What is the probability that it's not raining and there is heavy traffic and I am not late?\n",
    "2.What is the probability that I am late?\n",
    "3.Given that I arrived late at work, what is the probability that it rained that day?\n"
   ]
  },
  {
   "cell_type": "code",
   "execution_count": 8,
   "metadata": {},
   "outputs": [],
   "source": [
    "rain = 1/3\n",
    "rain_traffic = 1/2\n",
    "norain_traffic = 1/4\n",
    "late = 1/2\n",
    "norain_notraffic_late = 1/8\n",
    "rain_notraffic_late =1/4\n",
    "norain_traffic = 1/4\n"
   ]
  },
  {
   "cell_type": "code",
   "execution_count": 6,
   "metadata": {},
   "outputs": [
    {
     "name": "stdout",
     "output_type": "stream",
     "text": [
      "probability that it's not raining and there is heavy traffic and I am not late 95.83333333333334\n"
     ]
    }
   ],
   "source": [
    "print(\"probability that it's not raining and there is heavy traffic and I am not late\",(1-rain * norain_traffic * late )*100)"
   ]
  },
  {
   "cell_type": "code",
   "execution_count": 7,
   "metadata": {},
   "outputs": [
    {
     "name": "stdout",
     "output_type": "stream",
     "text": [
      "P (NOT getting late when NO rain followed by heavy traffic): 1/8\n",
      "P (getting late in all situations): 11/48\n",
      "P (it rained / I'm late): 6/11\n"
     ]
    }
   ],
   "source": []
  },
  {
   "cell_type": "code",
   "execution_count": null,
   "metadata": {},
   "outputs": [],
   "source": [
    "print(\"probability that I am late :\")"
   ]
  }
 ],
 "metadata": {
  "kernelspec": {
   "display_name": "Python 3",
   "language": "python",
   "name": "python3"
  },
  "language_info": {
   "codemirror_mode": {
    "name": "ipython",
    "version": 3
   },
   "file_extension": ".py",
   "mimetype": "text/x-python",
   "name": "python",
   "nbconvert_exporter": "python",
   "pygments_lexer": "ipython3",
   "version": "3.7.3"
  }
 },
 "nbformat": 4,
 "nbformat_minor": 2
}
