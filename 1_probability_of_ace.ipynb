{
 "cells": [
  {
   "cell_type": "markdown",
   "metadata": {},
   "source": [
    "Write a program to find probability of drawing an ace from pack of cards"
   ]
  },
  {
   "cell_type": "code",
   "execution_count": 5,
   "metadata": {},
   "outputs": [
    {
     "name": "stdout",
     "output_type": "stream",
     "text": [
      "probability of ace is  7.6923076923076925 %\n"
     ]
    }
   ],
   "source": [
    "try:\n",
    "    pack = 52 # total cards\n",
    "    ace = 4 # ace count\n",
    "    prob = (ace/pack) * 100\n",
    "    print(\"probability of ace is \",(prob),\"%\")\n",
    "except Exception as e:\n",
    "    print(\"Exception occured in program error is \",e)"
   ]
  }
 ],
 "metadata": {
  "kernelspec": {
   "display_name": "Python 3",
   "language": "python",
   "name": "python3"
  },
  "language_info": {
   "codemirror_mode": {
    "name": "ipython",
    "version": 3
   },
   "file_extension": ".py",
   "mimetype": "text/x-python",
   "name": "python",
   "nbconvert_exporter": "python",
   "pygments_lexer": "ipython3",
   "version": "3.7.3"
  }
 },
 "nbformat": 4,
 "nbformat_minor": 2
}
