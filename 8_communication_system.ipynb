{
 "cells": [
  {
   "cell_type": "raw",
   "metadata": {},
   "source": [
    "8. In a communication system each data packet consists of 1000 bits. Due to the noise, each bit may be received in error with probability 0.01. It is assumed bit errors occur independently. Find the probability that there are more than 120 errors in a certain data packet."
   ]
  },
  {
   "cell_type": "code",
   "execution_count": 5,
   "metadata": {},
   "outputs": [
    {
     "name": "stdout",
     "output_type": "stream",
     "text": [
      "0.1\n",
      "0.09000000000000001\n"
     ]
    }
   ],
   "source": [
    "n = 1000\n",
    "mean = 0.1\n",
    "var = mean *(1-mean)\n",
    "n = 1000\n",
    "print(mean)\n",
    "print(var)"
   ]
  },
  {
   "cell_type": "code",
   "execution_count": 6,
   "metadata": {},
   "outputs": [
    {
     "name": "stdout",
     "output_type": "stream",
     "text": [
      "100.0\n",
      "90.00000000000001\n"
     ]
    }
   ],
   "source": [
    "#mean and variance calculation\n",
    "prob_mean = n * mean\n",
    "prob_var = n * var\n",
    "print(prob_mean)\n",
    "print(prob_var)"
   ]
  },
  {
   "cell_type": "code",
   "execution_count": 7,
   "metadata": {},
   "outputs": [
    {
     "name": "stdout",
     "output_type": "stream",
     "text": [
      "9.486832980505138\n"
     ]
    }
   ],
   "source": [
    "from math import sqrt\n",
    "sd = sqrt(prob_var)\n",
    "print(sd)"
   ]
  },
  {
   "cell_type": "code",
   "execution_count": 8,
   "metadata": {},
   "outputs": [
    {
     "name": "stdout",
     "output_type": "stream",
     "text": [
      "2.1081851067789197\n"
     ]
    }
   ],
   "source": [
    "#function to calculate Zscore\n",
    "def z_val(num,mean,sd):\n",
    "    return (num-mean)/sd\n",
    "\n",
    "\n",
    "z_score = z_val(120,prob_mean,sd)\n",
    "print(z_score)"
   ]
  },
  {
   "cell_type": "code",
   "execution_count": 11,
   "metadata": {},
   "outputs": [
    {
     "name": "stdout",
     "output_type": "stream",
     "text": [
      "P(x > 120) : p(z > 2.10) : 0.09785999999999995\n"
     ]
    }
   ],
   "source": [
    "z_score_val = 0.90214\n",
    "greter_than_120 = 1-z_score_val\n",
    "print(\"P(x > 120) : p(z > 2.10) :\",greter_than_120)"
   ]
  }
 ],
 "metadata": {
  "kernelspec": {
   "display_name": "Python 3",
   "language": "python",
   "name": "python3"
  },
  "language_info": {
   "codemirror_mode": {
    "name": "ipython",
    "version": 3
   },
   "file_extension": ".py",
   "mimetype": "text/x-python",
   "name": "python",
   "nbconvert_exporter": "python",
   "pygments_lexer": "ipython3",
   "version": "3.7.3"
  }
 },
 "nbformat": 4,
 "nbformat_minor": 2
}
