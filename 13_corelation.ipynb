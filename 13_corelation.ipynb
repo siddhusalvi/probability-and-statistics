{
 "cells": [
  {
   "cell_type": "markdown",
   "metadata": {},
   "source": [
    "The table below shows the height, x, in inches and the pulse rate, y, per minute,\n",
    "for 9 people. Write a program to find the correlation coefficient and interpret your result.\n",
    "\tx = [68, 72, 65, 70, 62, 75, 78, 64, 68]\n",
    "\ty ⇒ [90, 85, 88, 100, 105, 98, 70, 65, 72]\n"
   ]
  },
  {
   "cell_type": "code",
   "execution_count": 18,
   "metadata": {},
   "outputs": [],
   "source": [
    "x_list = [68, 72, 65, 70, 62, 75, 78, 64, 68]\n",
    "y_list = [90, 85, 88, 100, 105, 98, 70, 65, 72]\n"
   ]
  },
  {
   "cell_type": "code",
   "execution_count": 23,
   "metadata": {},
   "outputs": [],
   "source": [
    "#function to calculate min\n",
    "def cal_mean(given_list):\n",
    "    count = 0\n",
    "    sum = 0\n",
    "    for i in given_list:\n",
    "        sum += i\n",
    "        count += 1\n",
    "    return sum/count"
   ]
  },
  {
   "cell_type": "code",
   "execution_count": 24,
   "metadata": {
    "scrolled": true
   },
   "outputs": [
    {
     "name": "stdout",
     "output_type": "stream",
     "text": [
      "69.11111111111111\n"
     ]
    }
   ],
   "source": [
    "x_mean = cal_mean(x_list)\n",
    "print(\"x mean : \",x_mean)"
   ]
  },
  {
   "cell_type": "code",
   "execution_count": 26,
   "metadata": {},
   "outputs": [
    {
     "name": "stdout",
     "output_type": "stream",
     "text": [
      "y mean :  85.88888888888889\n"
     ]
    }
   ],
   "source": [
    "y_mean = cal_mean(y_list)\n",
    "print(\"y mean : \",y_mean)"
   ]
  },
  {
   "cell_type": "code",
   "execution_count": 1,
   "metadata": {},
   "outputs": [],
   "source": [
    "#function to calculate corelation and table\n",
    "from math import sqrt\n",
    "def gen_table(list1,list2):\n",
    "    mean1 = cal_mean(list1)\n",
    "    mean2 = cal_mean(list2)\n",
    "    x2 = y2 = xy = mx2 = my2 = mxy = 0 \n",
    "    for i in range(len(list1)):\n",
    "        x = list1[i] - mean1\n",
    "        y = list2[i] - mean2\n",
    "        x2 = x**2\n",
    "        y2 = y**2\n",
    "        xy = x*y\n",
    "        mx2 += x2\n",
    "        my2 += y2\n",
    "        mxy += xy\n",
    "        row = str(list1[i]) +\" \"+ str(list2[2]) +\"  \"+ str(x) +\"  \"+ str(y) +\"  \"+ str(x2)+\"  \"+str(y2)+\"  \"+str(xy)\n",
    "        #print(row)\n",
    "    ans = mxy/(sqrt(mx2*sqrt(my2)))\n",
    "    print(\"Corelation is : \",ans)\n",
    "    if ans == 0:\n",
    "        print(\"data is uncorrelated\")\n",
    "    elif ans < 0:\n",
    "        print(\"data is perfectly negatively correlated\")\n",
    "    else:\n",
    "        print(\"data is perfectly positively correlated\")"
   ]
  },
  {
   "cell_type": "code",
   "execution_count": 40,
   "metadata": {},
   "outputs": [
    {
     "name": "stdout",
     "output_type": "stream",
     "text": [
      "Corelation is :  -0.9264387750189662\n",
      "data is perfectly negatively correlated\n"
     ]
    }
   ],
   "source": [
    "gen_table(x_list,y_list)"
   ]
  }
 ],
 "metadata": {
  "kernelspec": {
   "display_name": "Python 3",
   "language": "python",
   "name": "python3"
  },
  "language_info": {
   "codemirror_mode": {
    "name": "ipython",
    "version": 3
   },
   "file_extension": ".py",
   "mimetype": "text/x-python",
   "name": "python",
   "nbconvert_exporter": "python",
   "pygments_lexer": "ipython3",
   "version": "3.7.3"
  }
 },
 "nbformat": 4,
 "nbformat_minor": 2
}
